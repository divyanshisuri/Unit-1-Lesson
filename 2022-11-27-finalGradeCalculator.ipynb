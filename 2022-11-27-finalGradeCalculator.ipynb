{
 "cells": [
  {
   "cell_type": "markdown",
   "metadata": {},
   "source": [
    "# Final Grade Calculator"
   ]
  },
  {
   "cell_type": "markdown",
   "metadata": {},
   "source": [
  ]
  },
  {
   "cell_type": "code",
   "execution_count": 1,
   "metadata": {
    "vscode": {
     "languageId": "java"
    }
   },
   "outputs": [
    {
     "name": "stdout",
     "output_type": "stream",
     "text": [
      "Is the final in a seperate category? \n",
      " 1 - True \n",
      " 2 - False\n"
     ]
    }
   ],
   "source": [
    "import java.util.Scanner;  // Import the Scanner class\n",
    "int separate = 0;\n",
    "double g = 96; // Current Class Grade\n",
    "double percentFinal = 30;\n",
    "double finalScore = 0;\n",
    "int t = 80; // test percent of the grade\n",
    "int p = 300; // point in the test category\n",
    "int f = 100; // points that the final is worth\n",
    "double a = 92; // percent of points scored within the test category\n",
    "double w = 90; // wanted grade\n",
    "Scanner finalQ = new Scanner(System.in);  // Create a Scanner object\n",
    "\n",
    "System.out.println(\"Is the final in a seperate category? \\n 1 - True \\n 2 - False\");\n",
    "separate = finalQ.nextInt();\n",
    "if(separate == 1){\n",
    "    System.out.println(\"What is your current grade?\");\n",
    "    g = finalQ.nextDouble();\n",
    "    System.out.println(\"How much percent of your grade is the final?\");\n",
    "    percentFinal = finalQ.nextDouble();\n",
    "    System.out.println(\"What is your desired grade?\");\n",
    "    w = finalQ.nextDouble();\n",
    "    finalScore = (w -g * (100.0- percentFinal)/100) / (percentFinal/100);\n",
    "    System.out.print(\"You need to get at least a \" + String.format(\"%.2f\", (finalScore/f)*100) + \"% on you final to get a \" + w);\n",
    "}\n",
    "else if(separate == 2){\n",
    "    System.out.print(\"What is your current grade? \");\n",
    "    g = finalQ.nextDouble();\n",
    "    System.out.println(g);\n",
    "    System.out.print(\"How much is your test category worth? \");\n",
    "    t = finalQ.nextInt();\n",
    "    System.out.println(t);\n",
    "    System.out.print(\"How many point are in the test category? \");\n",
    "    p = finalQ.nextInt();\n",
    "    System.out.println(p);\n",
    "    System.out.print(\"How many point is the final? \");\n",
    "    f = finalQ.nextInt();\n",
    "    System.out.println(f);\n",
    "    System.out.print(\"What is your grade in the test category? \");\n",
    "    a = finalQ.nextDouble();\n",
    "    System.out.println(a);\n",
    "    System.out.print(\"What is your desired grade? \");\n",
    "    w = finalQ.nextDouble();\n",
    "    System.out.println(w);\n",
    "    finalScore = ((0.01*a*f*t)-(f*g)+(f*w)-(g*p)+(p*w))/t;\n",
    "    System.out.print(\"You need to get at least a \" + String.format(\"%.2f\", (finalScore/f)*100) + \"% on you final to get a \" + w);\n",
    "}\n",
    "else{\n",
    "    System.out.print(\"Unexpected choice, try again.\");\n",
    "}"
   ]
  }
 ],
 "metadata": {
  "kernelspec": {
   "display_name": "Java",
   "language": "java",
   "name": "java"
  },
  "language_info": {
   "codemirror_mode": "java",
   "file_extension": ".jshell",
   "mimetype": "text/x-java-source",
   "name": "Java",
   "pygments_lexer": "java",
   "version": "17.0.5+0"
  },
  "orig_nbformat": 4
 },
 "nbformat": 4,
 "nbformat_minor": 2
}
